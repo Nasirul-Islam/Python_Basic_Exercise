{
  "nbformat": 4,
  "nbformat_minor": 0,
  "metadata": {
    "colab": {
      "provenance": [],
      "authorship_tag": "ABX9TyMmh+akgQFOyQcNwuLqUMSX",
      "include_colab_link": true
    },
    "kernelspec": {
      "name": "python3",
      "display_name": "Python 3"
    },
    "language_info": {
      "name": "python"
    }
  },
  "cells": [
    {
      "cell_type": "markdown",
      "metadata": {
        "id": "view-in-github",
        "colab_type": "text"
      },
      "source": [
        "<a href=\"https://colab.research.google.com/github/Nasirul-Islam/Python_Basic_Exercise/blob/main/py_basic.ipynb\" target=\"_parent\"><img src=\"https://colab.research.google.com/assets/colab-badge.svg\" alt=\"Open In Colab\"/></a>"
      ]
    },
    {
      "cell_type": "code",
      "execution_count": null,
      "metadata": {
        "colab": {
          "base_uri": "https://localhost:8080/"
        },
        "id": "idotWGuz4V-b",
        "outputId": "46ac6508-a230-4265-84a3-ead3af59d89c"
      },
      "outputs": [
        {
          "output_type": "stream",
          "name": "stdout",
          "text": [
            "Age: 25\n",
            "<class 'int'>\n",
            "Height: 5.9\n",
            "<class 'float'>\n",
            "Name: John Doe\n",
            "<class 'str'>\n",
            "Is Employed: True\n",
            "<class 'bool'>\n",
            "Hobbies: ['reading', 'traveling', 'coding']\n",
            "<class 'list'>\n",
            "Coordinates: (40.7128, -74.006)\n",
            "<class 'tuple'>\n",
            "Unique Numbers: {1, 2, 3, 4, 5}\n",
            "<class 'set'>\n",
            "Person Info: {'name': 'John Doe', 'age': 25, 'is_employed': True, 'hobbies': ['reading', 'traveling', 'coding']}\n",
            "<class 'dict'>\n"
          ]
        }
      ],
      "source": [
        "# Integer\n",
        "age = 25\n",
        "# Float\n",
        "height = 5.9\n",
        "# String\n",
        "name = \"John Doe\"\n",
        "# Boolean\n",
        "is_employed = True\n",
        "# List\n",
        "hobbies = [\"reading\", \"traveling\", \"coding\"]\n",
        "# Tuple\n",
        "coordinates = (40.7128, -74.0060)\n",
        "# Set\n",
        "unique_numbers = {1, 2, 3, 4, 5}\n",
        "# Dictionary\n",
        "person_info = {\n",
        "    \"name\": \"John Doe\",\n",
        "    \"age\": 25,\n",
        "    \"is_employed\": True,\n",
        "    \"hobbies\": [\"reading\", \"traveling\", \"coding\"]\n",
        "}\n",
        "\n",
        "print(\"Age:\", age)\n",
        "print(type(age))\n",
        "print(\"Height:\", height)\n",
        "print(type(height))\n",
        "print(\"Name:\", name)\n",
        "print(type(name))\n",
        "print(\"Is Employed:\", is_employed)\n",
        "print(type(is_employed))\n",
        "print(\"Hobbies:\", hobbies)\n",
        "print(type(hobbies))\n",
        "print(\"Coordinates:\", coordinates)\n",
        "print(type(coordinates))\n",
        "print(\"Unique Numbers:\", unique_numbers)\n",
        "print(type(unique_numbers))\n",
        "print(\"Person Info:\", person_info)\n",
        "print(type(person_info))"
      ]
    },
    {
      "cell_type": "code",
      "source": [
        "# The following line is commented out and won't execute\n",
        "# y = 20\n",
        "print(\"Nasirul Islam\")\n",
        "\n",
        "'''\n",
        "The following code is commented out:\n",
        "z = 30\n",
        "print(z)\n",
        "'''"
      ],
      "metadata": {
        "colab": {
          "base_uri": "https://localhost:8080/",
          "height": 53
        },
        "id": "t4lf279mQo_p",
        "outputId": "432eee56-1d29-4c63-b140-607bb948f517"
      },
      "execution_count": null,
      "outputs": [
        {
          "output_type": "stream",
          "name": "stdout",
          "text": [
            "Nasirul Islam\n"
          ]
        },
        {
          "output_type": "execute_result",
          "data": {
            "text/plain": [
              "'\\nThe following code is commented out:\\nz = 30\\nprint(z)\\n'"
            ],
            "application/vnd.google.colaboratory.intrinsic+json": {
              "type": "string"
            }
          },
          "metadata": {},
          "execution_count": 24
        }
      ]
    },
    {
      "cell_type": "code",
      "source": [
        "#  f-strings (Formatted String Literals)\n",
        "name = \"Alice\"\n",
        "age = 25\n",
        "height = 5.6\n",
        "\n",
        "# Basic f-string\n",
        "greeting = f\"Hello, my name is {name}.\"\n",
        "print(greeting)\n",
        "\n",
        "# Using expressions inside f-strings\n",
        "info = f\"I am {age} years old and {height} feet tall.\"\n",
        "print(info)\n",
        "\n",
        "# Using f-strings with calculations\n",
        "birth_year = 2023 - age\n",
        "print(f\"I was born in {birth_year}.\")\n",
        "\n",
        "# Formatting numbers in f-strings\n",
        "pi = 3.14159\n",
        "print(f\"Pi rounded to 2 decimal places: {pi:.2f}\")"
      ],
      "metadata": {
        "colab": {
          "base_uri": "https://localhost:8080/"
        },
        "id": "DaewgsJPRPx9",
        "outputId": "d5386487-9536-439f-f22b-9074e55d9e96"
      },
      "execution_count": null,
      "outputs": [
        {
          "output_type": "stream",
          "name": "stdout",
          "text": [
            "Hello, my name is Alice.\n",
            "I am 25 years old and 5.6 feet tall.\n",
            "I was born in 1998.\n",
            "Pi rounded to 2 decimal places: 3.14\n"
          ]
        }
      ]
    },
    {
      "cell_type": "code",
      "source": [
        "# str.format() Method\n",
        "name = \"Bob\"\n",
        "age = 30\n",
        "height = 6.0\n",
        "\n",
        "# Basic usage of str.format()\n",
        "greeting = \"Hello, my name is {}.\".format(name)\n",
        "print(greeting)\n",
        "\n",
        "# Using positional arguments\n",
        "info = \"I am {} years old and {} feet tall.\".format(age, height)\n",
        "print(info)\n",
        "\n",
        "# Using named arguments\n",
        "info_named = \"I am {age} years old and {height} feet tall.\".format(age=age, height=height)\n",
        "print(info_named)\n",
        "\n",
        "# Formatting numbers with str.format()\n",
        "pi = 3.14159\n",
        "print(\"Pi rounded to 2 decimal places: {:.2f}\".format(pi))"
      ],
      "metadata": {
        "colab": {
          "base_uri": "https://localhost:8080/"
        },
        "id": "-FcTAngYScEH",
        "outputId": "0a81aca8-b64f-4be9-bc3c-7c9a6f35c9cb"
      },
      "execution_count": null,
      "outputs": [
        {
          "output_type": "stream",
          "name": "stdout",
          "text": [
            "Hello, my name is Bob.\n",
            "I am 30 years old and 6.0 feet tall.\n",
            "I am 30 years old and 6.0 feet tall.\n",
            "Pi rounded to 2 decimal places: 3.14\n"
          ]
        }
      ]
    },
    {
      "cell_type": "code",
      "source": [
        "#  % Formatting (Old Style)\n",
        "name = \"Charlie\"\n",
        "age = 35\n",
        "height = 5.9\n",
        "\n",
        "# Basic usage of % formatting\n",
        "greeting = \"Hello, my name is %s.\" % name\n",
        "print(greeting)\n",
        "\n",
        "# Using multiple placeholders\n",
        "info = \"I am %d years old and %.1f feet tall.\" % (age, height)\n",
        "print(info)\n",
        "\n",
        "# Formatting numbers with % formatting\n",
        "pi = 3.14159\n",
        "print(\"Pi rounded to 2 decimal places: %.2f\" % pi)"
      ],
      "metadata": {
        "colab": {
          "base_uri": "https://localhost:8080/"
        },
        "id": "fvhSk4w2S8Fv",
        "outputId": "c8aa99b2-71de-42ea-bdd2-30bd8345d34f"
      },
      "execution_count": null,
      "outputs": [
        {
          "output_type": "stream",
          "name": "stdout",
          "text": [
            "Hello, my name is Charlie.\n",
            "I am 35 years old and 5.9 feet tall.\n",
            "Pi rounded to 2 decimal places: 3.14\n"
          ]
        }
      ]
    },
    {
      "cell_type": "code",
      "source": [
        "# 1. String Input\n",
        "name = input(\"Enter your name: \")\n",
        "print(\"Hello, \" + name + \"!\")\n",
        "\n",
        "# 2. Integer Input\n",
        "age = int(input(\"Enter your age: \"))\n",
        "print(\"You will be\", age + 5, \"years old in 5 years.\")\n",
        "\n",
        "# 3. Float Input\n",
        "height = float(input(\"Enter your height in feet: \"))\n",
        "print(\"Your height is\", height, \"feet.\")\n",
        "\n",
        "# 4. Boolean Input\n",
        "is_student = bool(input(\"Are you a student? (True/False): \"))\n",
        "print(\"Student status:\", is_student)\n"
      ],
      "metadata": {
        "colab": {
          "base_uri": "https://localhost:8080/"
        },
        "id": "3dLUXXtMVAA-",
        "outputId": "4b2fd019-fdbf-468e-e8a1-f35c812d2140"
      },
      "execution_count": null,
      "outputs": [
        {
          "output_type": "stream",
          "name": "stdout",
          "text": [
            "Enter your name: Nasirul\n",
            "Hello, Nasirul!\n",
            "Enter your age: 25\n",
            "You will be 30 years old in 5 years.\n",
            "Enter your height in feet: 5.4\n",
            "Your height is 5.4 feet.\n",
            "Are you a student? (True/False): true\n",
            "Student status: True\n"
          ]
        }
      ]
    },
    {
      "cell_type": "code",
      "source": [
        "# Arithmetic Operators\n",
        "a = 10\n",
        "b = 3\n",
        "\n",
        "print(\"Addition:\", a + b)          # Output: 13\n",
        "print(\"Subtraction:\", a - b)       # Output: 7\n",
        "print(\"Multiplication:\", a * b)    # Output: 30\n",
        "print(\"Division:\", a / b)          # Output: 3.333...\n",
        "print(\"Floor Division:\", a // b)   # Output: 3\n",
        "print(\"Modulus:\", a % b)           # Output: 1\n",
        "print(\"Exponentiation:\", a ** b)   # Output: 1000"
      ],
      "metadata": {
        "colab": {
          "base_uri": "https://localhost:8080/"
        },
        "id": "zhJsbtNld6Z_",
        "outputId": "d19c5718-ed27-4511-fe78-8dfe55c933ff"
      },
      "execution_count": null,
      "outputs": [
        {
          "output_type": "stream",
          "name": "stdout",
          "text": [
            "Addition: 13\n",
            "Subtraction: 7\n",
            "Multiplication: 30\n",
            "Division: 3.3333333333333335\n",
            "Floor Division: 3\n",
            "Modulus: 1\n",
            "Exponentiation: 1000\n"
          ]
        }
      ]
    },
    {
      "cell_type": "code",
      "source": [
        "# Comparison Operators\n",
        "x = 5\n",
        "y = 3\n",
        "\n",
        "print(\"Equal to:\", x == y)          # Output: False\n",
        "print(\"Not equal to:\", x != y)      # Output: True\n",
        "print(\"Greater than:\", x > y)       # Output: True\n",
        "print(\"Less than:\", x < y)          # Output: False\n",
        "print(\"Greater than or equal to:\", x >= y)  # Output: True\n",
        "print(\"Less than or equal to:\", x <= y)     # Output: False"
      ],
      "metadata": {
        "colab": {
          "base_uri": "https://localhost:8080/"
        },
        "id": "fF3uDn3-d-e1",
        "outputId": "c1ab73de-79ca-46e2-d1be-36ad0990a2e0"
      },
      "execution_count": null,
      "outputs": [
        {
          "output_type": "stream",
          "name": "stdout",
          "text": [
            "Equal to: False\n",
            "Not equal to: True\n",
            "Greater than: True\n",
            "Less than: False\n",
            "Greater than or equal to: True\n",
            "Less than or equal to: False\n"
          ]
        }
      ]
    },
    {
      "cell_type": "code",
      "source": [
        "# Logical Operators\n",
        "a = 5\n",
        "b = 3\n",
        "c = 10\n",
        "\n",
        "print(\"and:\", (a > b) and (a < c))  # Output: True\n",
        "print(\"or:\", (a > b) or (a < 1))    # Output: True\n",
        "print(\"not:\", not (a > b))          # Output: False"
      ],
      "metadata": {
        "colab": {
          "base_uri": "https://localhost:8080/"
        },
        "id": "J6pljT13eIy3",
        "outputId": "8db175d3-958c-4c70-af09-2aeee0c9873b"
      },
      "execution_count": null,
      "outputs": [
        {
          "output_type": "stream",
          "name": "stdout",
          "text": [
            "and: True\n",
            "or: True\n",
            "not: False\n"
          ]
        }
      ]
    },
    {
      "cell_type": "code",
      "source": [
        "# Assignment Operators\n",
        "x = 10\n",
        "\n",
        "x += 5  # x = x + 5 → 15\n",
        "print(\"After +=\", x)\n",
        "\n",
        "x -= 3  # x = x - 3 → 12\n",
        "print(\"After -=\", x)\n",
        "\n",
        "x *= 2  # x = x * 2 → 24\n",
        "print(\"After *=\", x)\n",
        "\n",
        "x /= 4  # x = x / 4 → 6.0\n",
        "print(\"After /=\", x)\n",
        "\n",
        "x //= 2  # x = x // 2 → 3.0\n",
        "print(\"After //=\", x)\n",
        "\n",
        "x **= 3  # x = x ** 3 → 27.0\n",
        "print(\"After **=\", x)\n",
        "\n",
        "x %= 5  # x = x % 5 → 2.0\n",
        "print(\"After %=\", x)"
      ],
      "metadata": {
        "colab": {
          "base_uri": "https://localhost:8080/"
        },
        "id": "SXuwZo36haSO",
        "outputId": "c084123d-29b7-4283-e1a5-386aba07f1a0"
      },
      "execution_count": null,
      "outputs": [
        {
          "output_type": "stream",
          "name": "stdout",
          "text": [
            "After += 15\n",
            "After -= 12\n",
            "After *= 24\n",
            "After /= 6.0\n",
            "After //= 3.0\n",
            "After **= 27.0\n",
            "After %= 2.0\n"
          ]
        }
      ]
    },
    {
      "cell_type": "code",
      "source": [
        "# Identity Operators\n",
        "x = [1, 2, 3]\n",
        "y = [1, 2, 3]\n",
        "z = x\n",
        "\n",
        "print(\"x is y:\", x is y)          # Output: False (different objects)\n",
        "print(\"x is z:\", x is z)          # Output: True (same object)\n",
        "print(\"x is not y:\", x is not y)  # Output: True"
      ],
      "metadata": {
        "colab": {
          "base_uri": "https://localhost:8080/"
        },
        "id": "Q6mwixbYhd64",
        "outputId": "92b97a83-d356-4b9b-ab84-fc063cd3de6e"
      },
      "execution_count": null,
      "outputs": [
        {
          "output_type": "stream",
          "name": "stdout",
          "text": [
            "x is y: False\n",
            "x is z: True\n",
            "x is not y: True\n"
          ]
        }
      ]
    },
    {
      "cell_type": "code",
      "source": [
        "# Membership Operators\n",
        "numbers = [1, 2, 3, 4, 5]\n",
        "\n",
        "print(\"5 in numbers:\", 5 in numbers)          # Output: True\n",
        "print(\"10 not in numbers:\", 10 not in numbers)  # Output: True"
      ],
      "metadata": {
        "colab": {
          "base_uri": "https://localhost:8080/"
        },
        "id": "w1IzG6pXhdtG",
        "outputId": "63365e6b-0662-441b-d580-8f659d7372c0"
      },
      "execution_count": null,
      "outputs": [
        {
          "output_type": "stream",
          "name": "stdout",
          "text": [
            "5 in numbers: True\n",
            "10 not in numbers: True\n"
          ]
        }
      ]
    },
    {
      "cell_type": "code",
      "source": [
        "# if-else Statement\n",
        "age = 15\n",
        "\n",
        "if age >= 18:\n",
        "    print(\"You are eligible to vote.\")\n",
        "else:\n",
        "    print(\"You are not eligible to vote.\")"
      ],
      "metadata": {
        "colab": {
          "base_uri": "https://localhost:8080/"
        },
        "id": "KLoCH5u_h4H0",
        "outputId": "c35f3df1-8a63-4d1a-c803-651e9631b43d"
      },
      "execution_count": null,
      "outputs": [
        {
          "output_type": "stream",
          "name": "stdout",
          "text": [
            "You are not eligible to vote.\n"
          ]
        }
      ]
    },
    {
      "cell_type": "code",
      "source": [
        "# if-elif-else Statement\n",
        "score = 85\n",
        "\n",
        "if score >= 90:\n",
        "    print(\"Grade: A\")\n",
        "elif score >= 80:\n",
        "    print(\"Grade: B\")\n",
        "elif score >= 70:\n",
        "    print(\"Grade: C\")\n",
        "else:\n",
        "    print(\"Grade: D\")"
      ],
      "metadata": {
        "colab": {
          "base_uri": "https://localhost:8080/"
        },
        "id": "OHGR_scOh4FH",
        "outputId": "e4cca4bc-abea-48b5-a4c2-deb8f6af827e"
      },
      "execution_count": null,
      "outputs": [
        {
          "output_type": "stream",
          "name": "stdout",
          "text": [
            "Grade: B\n"
          ]
        }
      ]
    },
    {
      "cell_type": "code",
      "source": [
        "# Nested if Statements\n",
        "age = 20\n",
        "has_id = True\n",
        "\n",
        "if age >= 18:\n",
        "    if has_id:\n",
        "        print(\"You are eligible to enter the club.\")\n",
        "    else:\n",
        "        print(\"You need an ID to enter the club.\")\n",
        "else:\n",
        "    print(\"You are not eligible to enter the club.\")"
      ],
      "metadata": {
        "colab": {
          "base_uri": "https://localhost:8080/"
        },
        "id": "6MLi4iISh4Aq",
        "outputId": "b8c5ea3e-0ebc-4771-eab1-693877ff6c2e"
      },
      "execution_count": null,
      "outputs": [
        {
          "output_type": "stream",
          "name": "stdout",
          "text": [
            "You are eligible to enter the club.\n"
          ]
        }
      ]
    },
    {
      "cell_type": "code",
      "source": [
        "# Ternary Operator\n",
        "age = 20\n",
        "status = \"Eligible\" if age >= 18 else \"Not Eligible\"\n",
        "print(\"Status:\", status)"
      ],
      "metadata": {
        "colab": {
          "base_uri": "https://localhost:8080/"
        },
        "id": "0jIae7Xih3-S",
        "outputId": "83cc2976-353a-4c2e-f45c-8a05c908e2f6"
      },
      "execution_count": null,
      "outputs": [
        {
          "output_type": "stream",
          "name": "stdout",
          "text": [
            "Status: Eligible\n"
          ]
        }
      ]
    },
    {
      "cell_type": "code",
      "source": [
        "# match-case Statement (Python 3.10+)\n",
        "day = \"Monday\"\n",
        "\n",
        "match day:\n",
        "    case \"Monday\":\n",
        "        print(\"Start of the workweek.\")\n",
        "    case \"Friday\":\n",
        "        print(\"Last day of the workweek.\")\n",
        "    case \"Saturday\" | \"Sunday\":\n",
        "        print(\"It's the weekend!\")\n",
        "    case _:\n",
        "        print(\"It's a regular day.\")"
      ],
      "metadata": {
        "colab": {
          "base_uri": "https://localhost:8080/"
        },
        "id": "R_h_zWJch38H",
        "outputId": "540bdfa8-6d32-4a50-dec9-cb8394ba8c81"
      },
      "execution_count": null,
      "outputs": [
        {
          "output_type": "stream",
          "name": "stdout",
          "text": [
            "Start of the workweek.\n"
          ]
        }
      ]
    },
    {
      "cell_type": "code",
      "source": [
        "# Handling Multiple Conditions\n",
        "age = 25\n",
        "has_license = True\n",
        "\n",
        "if age >= 18 and has_license:\n",
        "    print(\"You can drive.\")\n",
        "else:\n",
        "    print(\"You cannot drive.\")"
      ],
      "metadata": {
        "colab": {
          "base_uri": "https://localhost:8080/"
        },
        "id": "ylFMUMzBh357",
        "outputId": "ae235262-888d-4c2e-a182-bb739f9a16e4"
      },
      "execution_count": null,
      "outputs": [
        {
          "output_type": "stream",
          "name": "stdout",
          "text": [
            "You can drive.\n"
          ]
        }
      ]
    },
    {
      "cell_type": "code",
      "source": [
        "# Empty if Block\n",
        "x = 10\n",
        "\n",
        "if x > 5:\n",
        "    pass  # Do nothing for now\n",
        "else:\n",
        "    print(\"x is less than or equal to 5.\")"
      ],
      "metadata": {
        "id": "n3usgcL2h337"
      },
      "execution_count": null,
      "outputs": []
    },
    {
      "cell_type": "code",
      "source": [
        "# Example 1: Basic While Loop\n",
        "print(\"Example 1: Basic While Loop\")\n",
        "x = 0\n",
        "while x < 5:\n",
        "    print(f\"x is {x}\")\n",
        "    x += 1  # Increment x by 1\n",
        "print()"
      ],
      "metadata": {
        "id": "pURjgj4Yh31B",
        "colab": {
          "base_uri": "https://localhost:8080/"
        },
        "outputId": "079ec588-570a-4b0a-bb2c-76f694873601"
      },
      "execution_count": null,
      "outputs": [
        {
          "output_type": "stream",
          "name": "stdout",
          "text": [
            "Example 1: Basic While Loop\n",
            "x is 0\n",
            "x is 1\n",
            "x is 2\n",
            "x is 3\n",
            "x is 4\n",
            "\n"
          ]
        }
      ]
    },
    {
      "cell_type": "code",
      "source": [
        "# Example 2: Infinite Loop with Break\n",
        "print(\"Example 2: Infinite Loop with Break\")\n",
        "while True:\n",
        "    user_input = input(\"Enter 'quit' to exit: \")\n",
        "    if user_input == 'quit':\n",
        "        print(\"Exiting the loop.\")\n",
        "        break\n",
        "    else:\n",
        "        print(f\"You entered: {user_input}\")\n",
        "print()"
      ],
      "metadata": {
        "id": "tkz-37Ash3yT",
        "colab": {
          "base_uri": "https://localhost:8080/"
        },
        "outputId": "b31a5c9b-3a80-4a38-b31b-fd9bf2b3ccae"
      },
      "execution_count": null,
      "outputs": [
        {
          "output_type": "stream",
          "name": "stdout",
          "text": [
            "Example 2: Infinite Loop with Break\n",
            "Enter 'quit' to exit: 5\n",
            "You entered: 5\n",
            "Enter 'quit' to exit: 9\n",
            "You entered: 9\n",
            "Enter 'quit' to exit: quit\n",
            "Exiting the loop.\n",
            "\n"
          ]
        }
      ]
    },
    {
      "cell_type": "code",
      "source": [
        "# Example 3: While Loop with Else\n",
        "print(\"Example 3: While Loop with Else\")\n",
        "count = 0\n",
        "while count < 3:\n",
        "    print(f\"Count is {count}\")\n",
        "    count += 1\n",
        "else:\n",
        "    print(\"Loop finished!\")\n",
        "print()"
      ],
      "metadata": {
        "id": "diclKnlRh3vN",
        "colab": {
          "base_uri": "https://localhost:8080/"
        },
        "outputId": "204f6332-194a-4134-af85-b778abc3020a"
      },
      "execution_count": null,
      "outputs": [
        {
          "output_type": "stream",
          "name": "stdout",
          "text": [
            "Example 3: While Loop with Else\n",
            "Count is 0\n",
            "Count is 1\n",
            "Count is 2\n",
            "Loop finished!\n",
            "\n"
          ]
        }
      ]
    },
    {
      "cell_type": "code",
      "source": [
        "# Example 4: Nested While Loop\n",
        "print(\"Example 4: Nested While Loop\")\n",
        "i = 1\n",
        "while i <= 3:\n",
        "    j = 1\n",
        "    while j <= 3:\n",
        "        print(f\"i = {i}, j = {j}\")\n",
        "        j += 1\n",
        "    i += 1\n",
        "print()"
      ],
      "metadata": {
        "id": "u4yFetUzh3sZ",
        "colab": {
          "base_uri": "https://localhost:8080/"
        },
        "outputId": "2d12bc3f-6a6a-4f9f-89a3-e9e62d9321bc"
      },
      "execution_count": null,
      "outputs": [
        {
          "output_type": "stream",
          "name": "stdout",
          "text": [
            "Example 4: Nested While Loop\n",
            "i = 1, j = 1\n",
            "i = 1, j = 2\n",
            "i = 1, j = 3\n",
            "i = 2, j = 1\n",
            "i = 2, j = 2\n",
            "i = 2, j = 3\n",
            "i = 3, j = 1\n",
            "i = 3, j = 2\n",
            "i = 3, j = 3\n",
            "\n"
          ]
        }
      ]
    },
    {
      "cell_type": "code",
      "source": [
        "# Example 5: While Loop with Continue\n",
        "print(\"Example 5: While Loop with Continue\")\n",
        "x = 0\n",
        "while x < 5:\n",
        "    x += 1\n",
        "    if x == 3:\n",
        "        continue  # Skip the rest of the loop for x = 3\n",
        "    print(f\"x is {x}\")\n",
        "print()"
      ],
      "metadata": {
        "id": "vufGR4jbh3p_",
        "colab": {
          "base_uri": "https://localhost:8080/"
        },
        "outputId": "7bdd5bc7-d695-4c1f-9e08-ecd825f70654"
      },
      "execution_count": null,
      "outputs": [
        {
          "output_type": "stream",
          "name": "stdout",
          "text": [
            "Example 5: While Loop with Continue\n",
            "x is 1\n",
            "x is 2\n",
            "x is 4\n",
            "x is 5\n",
            "\n"
          ]
        }
      ]
    },
    {
      "cell_type": "code",
      "source": [
        "# Example 6: Real-World Example (Guessing Game)\n",
        "print(\"Example 6: Real-World Example (Guessing Game)\")\n",
        "secret_number = 7\n",
        "guess = None\n",
        "while guess != secret_number:\n",
        "    guess = int(input(\"Guess the number (between 1 and 10): \"))\n",
        "    if guess < secret_number:\n",
        "        print(\"Too low!\")\n",
        "    elif guess > secret_number:\n",
        "        print(\"Too high!\")\n",
        "    else:\n",
        "        print(\"Congratulations! You guessed it!\")\n",
        "print()"
      ],
      "metadata": {
        "id": "AETl22jjh3m2",
        "colab": {
          "base_uri": "https://localhost:8080/"
        },
        "outputId": "c7fc0acd-a89a-4dac-ca30-a1766881b3db"
      },
      "execution_count": null,
      "outputs": [
        {
          "output_type": "stream",
          "name": "stdout",
          "text": [
            "Example 6: Real-World Example (Guessing Game)\n",
            "Guess the number (between 1 and 10): 5\n",
            "Too low!\n",
            "Guess the number (between 1 and 10): 8\n",
            "Too high!\n",
            "Guess the number (between 1 and 10): 6\n",
            "Too low!\n",
            "Guess the number (between 1 and 10): 3\n",
            "Too low!\n",
            "Guess the number (between 1 and 10): 9\n",
            "Too high!\n",
            "Guess the number (between 1 and 10): 7\n",
            "Congratulations! You guessed it!\n",
            "\n"
          ]
        }
      ]
    },
    {
      "cell_type": "code",
      "source": [
        "# Example 7: While Loop with a List\n",
        "print(\"Example 7: While Loop with a List\")\n",
        "fruits = [\"apple\", \"banana\", \"cherry\"]\n",
        "while fruits:\n",
        "    print(f\"Eating {fruits.pop(0)}\")\n",
        "print(\"No more fruits left!\")"
      ],
      "metadata": {
        "id": "lUxdIYbYh3j8",
        "colab": {
          "base_uri": "https://localhost:8080/"
        },
        "outputId": "c6d1a8d2-c66d-4ef3-b5ed-ef099e97777d"
      },
      "execution_count": null,
      "outputs": [
        {
          "output_type": "stream",
          "name": "stdout",
          "text": [
            "Example 7: While Loop with a List\n",
            "Eating apple\n",
            "Eating banana\n",
            "Eating cherry\n",
            "No more fruits left!\n"
          ]
        }
      ]
    },
    {
      "cell_type": "code",
      "source": [
        "# Example 1: Basic For Loop\n",
        "print(\"Example 1: Basic For Loop\")\n",
        "numbers = [1, 2, 3, 4, 5]\n",
        "for num in numbers:\n",
        "    print(num)\n",
        "print()"
      ],
      "metadata": {
        "id": "TP-Ie8_Ph3g3",
        "colab": {
          "base_uri": "https://localhost:8080/"
        },
        "outputId": "07830082-7f04-4706-efa6-21f25c5e9e3e"
      },
      "execution_count": null,
      "outputs": [
        {
          "output_type": "stream",
          "name": "stdout",
          "text": [
            "Example 1: Basic For Loop\n",
            "1\n",
            "2\n",
            "3\n",
            "4\n",
            "5\n",
            "\n"
          ]
        }
      ]
    },
    {
      "cell_type": "code",
      "source": [
        "# Example 2: For Loop with Range\n",
        "print(\"Example 2: For Loop with Range\")\n",
        "for i in range(5):\n",
        "    print(i)\n",
        "print()"
      ],
      "metadata": {
        "id": "wYp55Q6sh3dh",
        "colab": {
          "base_uri": "https://localhost:8080/"
        },
        "outputId": "705efc26-9cea-4932-c52d-73b835b26f69"
      },
      "execution_count": null,
      "outputs": [
        {
          "output_type": "stream",
          "name": "stdout",
          "text": [
            "Example 2: For Loop with Range\n",
            "0\n",
            "1\n",
            "2\n",
            "3\n",
            "4\n",
            "\n"
          ]
        }
      ]
    },
    {
      "cell_type": "code",
      "source": [
        "# Example 3: For Loop with Strings\n",
        "print(\"Example 3: For Loop with Strings\")\n",
        "word = \"Python\"\n",
        "for char in word:\n",
        "    print(char)\n",
        "print()"
      ],
      "metadata": {
        "id": "45QH2FPkh3aK",
        "colab": {
          "base_uri": "https://localhost:8080/"
        },
        "outputId": "5d991ddf-02b7-43c6-ac42-d129526a5805"
      },
      "execution_count": null,
      "outputs": [
        {
          "output_type": "stream",
          "name": "stdout",
          "text": [
            "Example 3: For Loop with Strings\n",
            "P\n",
            "y\n",
            "t\n",
            "h\n",
            "o\n",
            "n\n",
            "\n"
          ]
        }
      ]
    },
    {
      "cell_type": "code",
      "source": [
        "# Example 4: For Loop with Dictionary\n",
        "print(\"Example 4: For Loop with Dictionary\")\n",
        "student_grades = {\"Alice\": 90, \"Bob\": 85, \"Charlie\": 95}\n",
        "print(\"Keys:\")\n",
        "for key in student_grades:\n",
        "    print(key)\n",
        "print(\"\\nValues:\")\n",
        "for value in student_grades.values():\n",
        "    print(value)\n",
        "print(\"\\nKey-Value Pairs:\")\n",
        "for key, value in student_grades.items():\n",
        "    print(f\"{key}: {value}\")\n",
        "print()"
      ],
      "metadata": {
        "id": "jdkkDHFnh3Wi",
        "colab": {
          "base_uri": "https://localhost:8080/"
        },
        "outputId": "1b836bf4-0d5e-40b0-f17f-812db806fa6d"
      },
      "execution_count": null,
      "outputs": [
        {
          "output_type": "stream",
          "name": "stdout",
          "text": [
            "Example 4: For Loop with Dictionary\n",
            "Keys:\n",
            "Alice\n",
            "Bob\n",
            "Charlie\n",
            "\n",
            "Values:\n",
            "90\n",
            "85\n",
            "95\n",
            "\n",
            "Key-Value Pairs:\n",
            "Alice: 90\n",
            "Bob: 85\n",
            "Charlie: 95\n",
            "\n"
          ]
        }
      ]
    },
    {
      "cell_type": "code",
      "source": [
        "# Example 5: Nested For Loop\n",
        "print(\"Example 5: Nested For Loop\")\n",
        "for i in range(3):\n",
        "    for j in range(2):\n",
        "        print(f\"i = {i}, j = {j}\")\n",
        "print()"
      ],
      "metadata": {
        "id": "lI7vMKNFh3PQ",
        "colab": {
          "base_uri": "https://localhost:8080/"
        },
        "outputId": "7fffb772-6014-4838-9147-1f9594d39647"
      },
      "execution_count": null,
      "outputs": [
        {
          "output_type": "stream",
          "name": "stdout",
          "text": [
            "Example 5: Nested For Loop\n",
            "i = 0, j = 0\n",
            "i = 0, j = 1\n",
            "i = 1, j = 0\n",
            "i = 1, j = 1\n",
            "i = 2, j = 0\n",
            "i = 2, j = 1\n",
            "\n"
          ]
        }
      ]
    },
    {
      "cell_type": "code",
      "source": [
        "# Example 6: For Loop with Else\n",
        "print(\"Example 6: For Loop with Else\")\n",
        "for i in range(3):\n",
        "    print(i)\n",
        "else:\n",
        "    print(\"Loop finished!\")\n",
        "print()"
      ],
      "metadata": {
        "colab": {
          "base_uri": "https://localhost:8080/"
        },
        "id": "0QjTscsEcwyv",
        "outputId": "e1ea2297-67b1-4e52-ef26-e0f7d085e434"
      },
      "execution_count": null,
      "outputs": [
        {
          "output_type": "stream",
          "name": "stdout",
          "text": [
            "Example 6: For Loop with Else\n",
            "0\n",
            "1\n",
            "2\n",
            "Loop finished!\n",
            "\n"
          ]
        }
      ]
    },
    {
      "cell_type": "code",
      "source": [
        "# Example 7: For Loop with Break\n",
        "print(\"Example 7: For Loop with Break\")\n",
        "for i in range(10):\n",
        "    if i == 5:\n",
        "        break\n",
        "    print(i)\n",
        "print()"
      ],
      "metadata": {
        "colab": {
          "base_uri": "https://localhost:8080/"
        },
        "id": "T8fUzvrpcwux",
        "outputId": "ab334282-93b7-49f3-d72c-a4316c9862e1"
      },
      "execution_count": null,
      "outputs": [
        {
          "output_type": "stream",
          "name": "stdout",
          "text": [
            "Example 7: For Loop with Break\n",
            "0\n",
            "1\n",
            "2\n",
            "3\n",
            "4\n",
            "\n"
          ]
        }
      ]
    },
    {
      "cell_type": "code",
      "source": [
        "# Example 8: For Loop with Continue\n",
        "print(\"Example 8: For Loop with Continue\")\n",
        "for i in range(5):\n",
        "    if i == 2:\n",
        "        continue\n",
        "    print(i)\n",
        "print()"
      ],
      "metadata": {
        "colab": {
          "base_uri": "https://localhost:8080/"
        },
        "id": "I2Hz_xcPcwqm",
        "outputId": "a5c707dc-5d65-4dcd-fa51-1cc0acb16c6a"
      },
      "execution_count": null,
      "outputs": [
        {
          "output_type": "stream",
          "name": "stdout",
          "text": [
            "Example 8: For Loop with Continue\n",
            "0\n",
            "1\n",
            "3\n",
            "4\n",
            "\n"
          ]
        }
      ]
    },
    {
      "cell_type": "code",
      "source": [
        "# Example 9: Real-World Example (Sum of Numbers)\n",
        "print(\"Example 9: Real-World Example (Sum of Numbers)\")\n",
        "numbers = [10, 20, 30, 40, 50]\n",
        "total = 0\n",
        "for num in numbers:\n",
        "    total += num\n",
        "print(f\"The sum is: {total}\")\n",
        "print()"
      ],
      "metadata": {
        "colab": {
          "base_uri": "https://localhost:8080/"
        },
        "id": "Tbnbn3xxcwno",
        "outputId": "5dd0eb3e-cfed-48af-ed9d-adf3532c031f"
      },
      "execution_count": null,
      "outputs": [
        {
          "output_type": "stream",
          "name": "stdout",
          "text": [
            "Example 9: Real-World Example (Sum of Numbers)\n",
            "The sum is: 150\n",
            "\n"
          ]
        }
      ]
    },
    {
      "cell_type": "code",
      "source": [
        "# Example 10: For Loop with Enumerate\n",
        "print(\"Example 10: For Loop with Enumerate\")\n",
        "fruits = [\"apple\", \"banana\", \"cherry\"]\n",
        "for index, fruit in enumerate(fruits):\n",
        "    print(f\"Index {index}: {fruit}\")\n",
        "print()"
      ],
      "metadata": {
        "colab": {
          "base_uri": "https://localhost:8080/"
        },
        "id": "XGeK0yaccwks",
        "outputId": "a2f07c46-c2b1-454d-98b2-355dcf34e147"
      },
      "execution_count": null,
      "outputs": [
        {
          "output_type": "stream",
          "name": "stdout",
          "text": [
            "Example 10: For Loop with Enumerate\n",
            "Index 0: apple\n",
            "Index 1: banana\n",
            "Index 2: cherry\n",
            "\n"
          ]
        }
      ]
    },
    {
      "cell_type": "code",
      "source": [
        "# Example 11: For Loop with Zip\n",
        "print(\"Example 11: For Loop with Zip\")\n",
        "names = [\"Alice\", \"Bob\", \"Charlie\"]\n",
        "scores = [90, 85, 95]\n",
        "for name, score in zip(names, scores):\n",
        "    print(f\"{name} scored {score}\")\n",
        "print()"
      ],
      "metadata": {
        "colab": {
          "base_uri": "https://localhost:8080/"
        },
        "id": "1rVqB3lccwhg",
        "outputId": "7e838d2b-bfa7-4f30-bf06-11c11e568099"
      },
      "execution_count": null,
      "outputs": [
        {
          "output_type": "stream",
          "name": "stdout",
          "text": [
            "Example 11: For Loop with Zip\n",
            "Alice scored 90\n",
            "Bob scored 85\n",
            "Charlie scored 95\n",
            "\n"
          ]
        }
      ]
    },
    {
      "cell_type": "code",
      "source": [
        "# Example 12: For Loop with List Comprehension\n",
        "print(\"Example 12: For Loop with List Comprehension\")\n",
        "numbers = [1, 2, 3, 4, 5]\n",
        "squared_numbers = [num**2 for num in numbers]\n",
        "print(squared_numbers)"
      ],
      "metadata": {
        "colab": {
          "base_uri": "https://localhost:8080/"
        },
        "id": "0hUyzRIQcwel",
        "outputId": "299f4770-f2a0-4759-8d1a-6e0ff2fcacf2"
      },
      "execution_count": null,
      "outputs": [
        {
          "output_type": "stream",
          "name": "stdout",
          "text": [
            "Example 12: For Loop with List Comprehension\n",
            "[1, 4, 9, 16, 25]\n"
          ]
        }
      ]
    },
    {
      "cell_type": "code",
      "source": [
        "# Example 13: range() with Start, Stop, and Step\n",
        "print(\"Example 13: range() with Start, Stop, and Step\")\n",
        "for i in range(2, 11, 2):\n",
        "    print(i)\n",
        "print()"
      ],
      "metadata": {
        "colab": {
          "base_uri": "https://localhost:8080/"
        },
        "id": "HevSpD8qcwbM",
        "outputId": "f2aa12a0-7a14-4596-a680-d43e2ffa8b51"
      },
      "execution_count": null,
      "outputs": [
        {
          "output_type": "stream",
          "name": "stdout",
          "text": [
            "Example 13: range() with Start, Stop, and Step\n",
            "2\n",
            "4\n",
            "6\n",
            "8\n",
            "10\n",
            "\n"
          ]
        }
      ]
    },
    {
      "cell_type": "code",
      "source": [
        "# Example 14: range() with Negative Step\n",
        "print(\"Example 14: range() with Negative Step\")\n",
        "for i in range(10, 0, -1):\n",
        "    print(i)\n",
        "print()"
      ],
      "metadata": {
        "colab": {
          "base_uri": "https://localhost:8080/"
        },
        "id": "jv5mdFFZcwX3",
        "outputId": "7f1edd12-dcb3-4d6e-9f9b-78a1febd7e07"
      },
      "execution_count": null,
      "outputs": [
        {
          "output_type": "stream",
          "name": "stdout",
          "text": [
            "Example 14: range() with Negative Step\n",
            "10\n",
            "9\n",
            "8\n",
            "7\n",
            "6\n",
            "5\n",
            "4\n",
            "3\n",
            "2\n",
            "1\n",
            "\n"
          ]
        }
      ]
    },
    {
      "cell_type": "code",
      "source": [
        "# Example 15: range() with Floating-Point Simulation\n",
        "print(\"Example 15: range() with Floating-Point Simulation\")\n",
        "start = 0.0\n",
        "stop = 1.0\n",
        "step = 0.2\n",
        "while start < stop:\n",
        "    print(round(start, 2))  # Round to 2 decimal places\n",
        "    start += step\n",
        "print()"
      ],
      "metadata": {
        "colab": {
          "base_uri": "https://localhost:8080/"
        },
        "id": "vqANpQhAcwUT",
        "outputId": "61f7ed3d-21a6-4437-b09c-42c1d594ce77"
      },
      "execution_count": null,
      "outputs": [
        {
          "output_type": "stream",
          "name": "stdout",
          "text": [
            "Example 15: range() with Floating-Point Simulation\n",
            "0.0\n",
            "0.2\n",
            "0.4\n",
            "0.6\n",
            "0.8\n",
            "\n"
          ]
        }
      ]
    },
    {
      "cell_type": "code",
      "source": [
        "# Example 16: range() with List Creation\n",
        "print(\"Example 16: range() with List Creation\")\n",
        "even_numbers = list(range(0, 11, 2))\n",
        "print(even_numbers)\n",
        "print()\n",
        "\n",
        "# Example 17: range() with Indexing\n",
        "print(\"Example 17: range() with Indexing\")\n",
        "fruits = [\"apple\", \"banana\", \"cherry\"]\n",
        "for i in range(len(fruits)):\n",
        "    print(f\"Index {i}: {fruits[i]}\")\n",
        "print()"
      ],
      "metadata": {
        "colab": {
          "base_uri": "https://localhost:8080/"
        },
        "id": "bMHjpBrxcwRD",
        "outputId": "e3adc516-2da8-4ffd-a2c1-e262e5acd22b"
      },
      "execution_count": null,
      "outputs": [
        {
          "output_type": "stream",
          "name": "stdout",
          "text": [
            "Example 16: range() with List Creation\n",
            "[0, 2, 4, 6, 8, 10]\n",
            "\n",
            "Example 17: range() with Indexing\n",
            "Index 0: apple\n",
            "Index 1: banana\n",
            "Index 2: cherry\n",
            "\n"
          ]
        }
      ]
    },
    {
      "cell_type": "code",
      "source": [
        "# Example 18: range() with Custom Start\n",
        "print(\"Example 18: range() with Custom Start\")\n",
        "for i in range(5, 10):\n",
        "    print(i)\n",
        "print()\n",
        "\n",
        "# Example 19: range() with Single Argument\n",
        "print(\"Example 19: range() with Single Argument\")\n",
        "for i in range(5):\n",
        "    print(i)\n",
        "print()\n",
        "\n",
        "# Example 20: range() with Large Steps\n",
        "print(\"Example 20: range() with Large Steps\")\n",
        "for i in range(0, 21, 5):\n",
        "    print(i)"
      ],
      "metadata": {
        "colab": {
          "base_uri": "https://localhost:8080/"
        },
        "id": "rzR8KDeGcwNo",
        "outputId": "c5ff4aeb-d38b-4b58-e092-e544b5d02ab1"
      },
      "execution_count": null,
      "outputs": [
        {
          "output_type": "stream",
          "name": "stdout",
          "text": [
            "Example 18: range() with Custom Start\n",
            "5\n",
            "6\n",
            "7\n",
            "8\n",
            "9\n",
            "\n",
            "Example 19: range() with Single Argument\n",
            "0\n",
            "1\n",
            "2\n",
            "3\n",
            "4\n",
            "\n",
            "Example 20: range() with Large Steps\n",
            "0\n",
            "5\n",
            "10\n",
            "15\n",
            "20\n"
          ]
        }
      ]
    },
    {
      "cell_type": "code",
      "source": [
        "# Example 1: Basic Function (No Parameters, No Return)\n",
        "def greet():\n",
        "    print(\"Hello, World!\")\n",
        "greet()  # Output: Hello, World!\n",
        "\n",
        "# Example 2: Function with Parameters\n",
        "def greet_user(name):\n",
        "    print(f\"Hello, {name}!\")\n",
        "greet_user(\"Alice\")  # Output: Hello, Alice!\n",
        "\n",
        "# Example 3: Function with Return Value\n",
        "def add(a, b):\n",
        "    return a + b\n",
        "result = add(3, 5)\n",
        "print(result)  # Output: 8"
      ],
      "metadata": {
        "colab": {
          "base_uri": "https://localhost:8080/"
        },
        "id": "5U2TDn9ycwKt",
        "outputId": "5beadb7e-51bc-4455-9f67-6c785e958361"
      },
      "execution_count": null,
      "outputs": [
        {
          "output_type": "stream",
          "name": "stdout",
          "text": [
            "Hello, World!\n",
            "Hello, Alice!\n",
            "8\n"
          ]
        }
      ]
    },
    {
      "cell_type": "code",
      "source": [
        "# Example 4: Function with Default Parameters\n",
        "def rectangle_area(length, width=5):\n",
        "    return length * width\n",
        "print(rectangle_area(10))     # Output: 50 (uses default width=5)\n",
        "print(rectangle_area(10, 3))  # Output: 30"
      ],
      "metadata": {
        "colab": {
          "base_uri": "https://localhost:8080/"
        },
        "id": "4HZM0biacwHP",
        "outputId": "878e3010-d35e-4382-84b7-a8372ce72311"
      },
      "execution_count": null,
      "outputs": [
        {
          "output_type": "stream",
          "name": "stdout",
          "text": [
            "50\n",
            "30\n"
          ]
        }
      ]
    },
    {
      "cell_type": "code",
      "source": [
        "# Example 5: Function with Keyword Arguments\n",
        "def describe_person(name, age, city):\n",
        "    print(f\"{name} is {age} years old and lives in {city}.\")\n",
        "describe_person(age=30, city=\"Paris\", name=\"Bob\")  # Keyword arguments"
      ],
      "metadata": {
        "colab": {
          "base_uri": "https://localhost:8080/"
        },
        "id": "H4RkrTIfpiv7",
        "outputId": "265858e9-c7f8-4519-e6af-0491641801a4"
      },
      "execution_count": null,
      "outputs": [
        {
          "output_type": "stream",
          "name": "stdout",
          "text": [
            "Bob is 30 years old and lives in Paris.\n"
          ]
        }
      ]
    },
    {
      "cell_type": "code",
      "source": [
        "# Example 6: Function with Variable Scope\n",
        "x = 10  # Global variable\n",
        "def update_global():\n",
        "    global x\n",
        "    x = 20\n",
        "update_global()\n",
        "print(x)  # Output: 20 (global x is modified)\n"
      ],
      "metadata": {
        "colab": {
          "base_uri": "https://localhost:8080/"
        },
        "id": "udZSb6xhpis7",
        "outputId": "68ba3ea1-b101-4988-9c96-034677f50def"
      },
      "execution_count": null,
      "outputs": [
        {
          "output_type": "stream",
          "name": "stdout",
          "text": [
            "20\n"
          ]
        }
      ]
    },
    {
      "cell_type": "code",
      "source": [
        "# Example 7: Recursive Function (Factorial)\n",
        "def factorial(n):\n",
        "    if n == 0:\n",
        "        return 1\n",
        "    else:\n",
        "        return n * factorial(n-1)\n",
        "print(factorial(5))  # Output: 120\n"
      ],
      "metadata": {
        "colab": {
          "base_uri": "https://localhost:8080/"
        },
        "id": "m0wKxTsVpiqE",
        "outputId": "1452ea2b-6bb7-4967-c9ae-5db0c067758b"
      },
      "execution_count": null,
      "outputs": [
        {
          "output_type": "stream",
          "name": "stdout",
          "text": [
            "120\n"
          ]
        }
      ]
    },
    {
      "cell_type": "code",
      "source": [
        "# Example 8: Nested Function\n",
        "def outer():\n",
        "    message = \"Hello from outer!\"\n",
        "    def inner():\n",
        "        print(message)\n",
        "    inner()\n",
        "outer()  # Output: Hello from outer!\n"
      ],
      "metadata": {
        "colab": {
          "base_uri": "https://localhost:8080/"
        },
        "id": "dKq6CXVrpinV",
        "outputId": "b4bba31b-5e61-4539-94ba-c2566940e6d8"
      },
      "execution_count": null,
      "outputs": [
        {
          "output_type": "stream",
          "name": "stdout",
          "text": [
            "Hello from outer!\n"
          ]
        }
      ]
    },
    {
      "cell_type": "code",
      "source": [
        "# Example 9: Lambda Function (Anonymous Function)\n",
        "square = lambda x: x ** 2\n",
        "print(square(4))  # Output: 16\n"
      ],
      "metadata": {
        "colab": {
          "base_uri": "https://localhost:8080/"
        },
        "id": "CEu0pGzapikO",
        "outputId": "fd06f67e-7eff-4fd6-d9ba-e2e510f624ea"
      },
      "execution_count": null,
      "outputs": [
        {
          "output_type": "stream",
          "name": "stdout",
          "text": [
            "16\n"
          ]
        }
      ]
    },
    {
      "cell_type": "code",
      "source": [
        "# Example 10: Function with Type Hints\n",
        "def multiply(a: float, b: float) -> float:\n",
        "    return a * b\n",
        "print(multiply(3.5, 2))  # Output: 7.0\n"
      ],
      "metadata": {
        "colab": {
          "base_uri": "https://localhost:8080/"
        },
        "id": "ExuiPgVQpih1",
        "outputId": "d8c6b079-70c2-4bff-f989-4ba05aedc546"
      },
      "execution_count": null,
      "outputs": [
        {
          "output_type": "stream",
          "name": "stdout",
          "text": [
            "7.0\n"
          ]
        }
      ]
    },
    {
      "cell_type": "code",
      "source": [
        "# Example 11: Function with Docstring\n",
        "def is_palindrome(word: str) -> bool:\n",
        "    \"\"\"\n",
        "    Checks if a word is a palindrome (reads the same backward).\n",
        "    Example: \"radar\" -> True\n",
        "    \"\"\"\n",
        "    return word == word[::-1]\n",
        "print(is_palindrome(\"radar\"))  # Output: True\n"
      ],
      "metadata": {
        "colab": {
          "base_uri": "https://localhost:8080/"
        },
        "id": "93VoTeNnpie9",
        "outputId": "57c7d496-a8c9-45af-c8a3-c2738d8f6b5f"
      },
      "execution_count": null,
      "outputs": [
        {
          "output_type": "stream",
          "name": "stdout",
          "text": [
            "True\n"
          ]
        }
      ]
    },
    {
      "cell_type": "code",
      "source": [
        "# Example 12: Function with Error Handling\n",
        "def safe_divide(a, b):\n",
        "    try:\n",
        "        return a / b\n",
        "    except ZeroDivisionError:\n",
        "        return \"Cannot divide by zero!\"\n",
        "print(safe_divide(10, 2))  # Output: 5.0\n",
        "print(safe_divide(10, 0))  # Output: Cannot divide by zero!\n"
      ],
      "metadata": {
        "colab": {
          "base_uri": "https://localhost:8080/"
        },
        "id": "31EO1lRtpibJ",
        "outputId": "0a8fe8b8-c9c3-4fcf-d8ac-728ef5fed777"
      },
      "execution_count": null,
      "outputs": [
        {
          "output_type": "stream",
          "name": "stdout",
          "text": [
            "5.0\n",
            "Cannot divide by zero!\n"
          ]
        }
      ]
    },
    {
      "cell_type": "code",
      "source": [
        "# Example 13: Function with *args (Variable-Length Arguments)\n",
        "def sum_all(*args):\n",
        "    return sum(args)\n",
        "print(sum_all(1, 2, 3))  # Output: 6\n"
      ],
      "metadata": {
        "colab": {
          "base_uri": "https://localhost:8080/"
        },
        "id": "T3D5d1k3piWS",
        "outputId": "f54c4651-342c-4401-decb-4af269c60a02"
      },
      "execution_count": null,
      "outputs": [
        {
          "output_type": "stream",
          "name": "stdout",
          "text": [
            "6\n"
          ]
        }
      ]
    },
    {
      "cell_type": "code",
      "source": [
        "# Example 14: Function with **kwargs (Keyword Arguments Dictionary)\n",
        "def build_profile(**kwargs):\n",
        "    for key, value in kwargs.items():\n",
        "        print(f\"{key}: {value}\")\n",
        "build_profile(name=\"Alice\", age=25, city=\"London\")\n"
      ],
      "metadata": {
        "colab": {
          "base_uri": "https://localhost:8080/"
        },
        "id": "h3xeY34FpiTR",
        "outputId": "e43b1023-a36e-4ad1-f208-40ba3ef97da5"
      },
      "execution_count": null,
      "outputs": [
        {
          "output_type": "stream",
          "name": "stdout",
          "text": [
            "name: Alice\n",
            "age: 25\n",
            "city: London\n"
          ]
        }
      ]
    },
    {
      "cell_type": "code",
      "source": [
        "# Example 15: Generator Function (with yield)\n",
        "def even_numbers(limit):\n",
        "    num = 0\n",
        "    while num <= limit:\n",
        "        yield num\n",
        "        num += 2\n",
        "for num in even_numbers(10):\n",
        "    print(num)  # Output: 0 2 4 6 8 10"
      ],
      "metadata": {
        "colab": {
          "base_uri": "https://localhost:8080/"
        },
        "id": "CcZ899DPpiQC",
        "outputId": "1985394d-2979-4ce2-97df-00ad96e5a3cf"
      },
      "execution_count": null,
      "outputs": [
        {
          "output_type": "stream",
          "name": "stdout",
          "text": [
            "0\n",
            "2\n",
            "4\n",
            "6\n",
            "8\n",
            "10\n"
          ]
        }
      ]
    },
    {
      "cell_type": "code",
      "source": [],
      "metadata": {
        "id": "njYTkk4qpiMy"
      },
      "execution_count": null,
      "outputs": []
    },
    {
      "cell_type": "code",
      "source": [],
      "metadata": {
        "id": "FNEVc9VvcwDS"
      },
      "execution_count": null,
      "outputs": []
    },
    {
      "cell_type": "code",
      "source": [],
      "metadata": {
        "id": "41_vEW5whdWe"
      },
      "execution_count": null,
      "outputs": []
    },
    {
      "cell_type": "code",
      "source": [
        "# 5. List Input with Error Handling\n",
        "while True:\n",
        "    numbers = input(\"Enter a list of numbers separated by spaces: \")\n",
        "    try:\n",
        "        # Split the input string and convert each part to an integer\n",
        "        numbers_list = [int(x) for x in numbers.split()]\n",
        "        print(\"List of numbers:\", numbers_list)\n",
        "        break  # Exit the loop if input is valid\n",
        "    except ValueError:\n",
        "        print(\"Invalid input! Please enter only numbers separated by spaces.\")"
      ],
      "metadata": {
        "colab": {
          "base_uri": "https://localhost:8080/"
        },
        "id": "TnJA2bcbXpdT",
        "outputId": "31dfcd41-e0de-4b24-8a2b-e7ee6a186dbb"
      },
      "execution_count": null,
      "outputs": [
        {
          "output_type": "stream",
          "name": "stdout",
          "text": [
            "Enter a list of numbers separated by spaces: 1,2 23 5 45 2 ,2 2\n",
            "Invalid input! Please enter only numbers separated by spaces.\n",
            "Enter a list of numbers separated by spaces: 2  4 5 7  8  5   4 3        3  \n",
            "List of numbers: [2, 4, 5, 7, 8, 5, 4, 3, 3]\n"
          ]
        }
      ]
    },
    {
      "cell_type": "code",
      "source": [
        "# 6. Tuple Input\n",
        "# Coordinates Input with Error Handling\n",
        "while True:\n",
        "    coordinates = input(\"Enter coordinates only numbers separated by spaces (x y): \")\n",
        "    try:\n",
        "        # Split the input string and convert to floats\n",
        "        x, y = map(float, coordinates.split())\n",
        "        point = (x, y)\n",
        "        print(\"Coordinates:\", point)\n",
        "        break  # Exit the loop if input is valid\n",
        "    except ValueError:\n",
        "        print(\"Invalid input! Please enter exactly two numbers separated by spaces.\")\n",
        "    except IndexError:\n",
        "        print(\"Invalid input! Please enter exactly two numbers separated by spaces.\")"
      ],
      "metadata": {
        "colab": {
          "base_uri": "https://localhost:8080/"
        },
        "id": "Rsi0Rip1ZOmn",
        "outputId": "1d5336c2-d5bf-4386-f5e0-405e26febbb4"
      },
      "execution_count": null,
      "outputs": [
        {
          "output_type": "stream",
          "name": "stdout",
          "text": [
            "Enter coordinates only numbers separated by spaces (x y): 34  65 76 \n",
            "Invalid input! Please enter exactly two numbers separated by spaces.\n",
            "Enter coordinates only numbers separated by spaces (x y): 23, 45\n",
            "Invalid input! Please enter exactly two numbers separated by spaces.\n",
            "Enter coordinates only numbers separated by spaces (x y): 3 5\n",
            "Coordinates: (3.0, 5.0)\n"
          ]
        }
      ]
    },
    {
      "cell_type": "code",
      "source": [
        "# 7. Set Input\n",
        "fruits = input(\"Enter fruits separated by commas: \")\n",
        "fruits_set = set(fruits.split(\",\"))  # Typecast to a set\n",
        "print(\"Set of fruits:\", fruits_set)"
      ],
      "metadata": {
        "colab": {
          "base_uri": "https://localhost:8080/"
        },
        "id": "_aEVoiI9aHjf",
        "outputId": "780f6c00-e42f-4606-8932-ea8adee8f76a"
      },
      "execution_count": null,
      "outputs": [
        {
          "output_type": "stream",
          "name": "stdout",
          "text": [
            "Enter fruits separated by commas: fg.yrt,wrt t,ry ,wrt ,w r\n",
            "Set of fruits: {'ry ', 'wrt ', 'fg.yrt', 'wrt t', 'w r'}\n"
          ]
        }
      ]
    },
    {
      "cell_type": "code",
      "source": [
        "# 8. Dictionary Input\n",
        "\"\"\"\n",
        "key_value_pairs = input(\"Enter key-value pairs (key1:value1,key2:value2): \")\n",
        "pairs = key_value_pairs.split(\",\")\n",
        "my_dict = {}\n",
        "for pair in pairs:\n",
        "    key, value = pair.split(\":\")\n",
        "    my_dict[key] = value  # Typecast value if needed\n",
        "print(\"Dictionary:\", my_dict)\n",
        "\"\"\"\n",
        "\n",
        "# Key-Value Pairs Input with Error Handling and Duplicate Key Handling\n",
        "while True:\n",
        "    key_value_pairs = input(\"Enter key-value pairs (key1:value1,key2:value2): \")\n",
        "    try:\n",
        "        pairs = key_value_pairs.split(\",\")\n",
        "        my_dict = {}\n",
        "        for pair in pairs:\n",
        "            key, value = pair.split(\":\")\n",
        "            key = key.strip()\n",
        "            value = value.strip()\n",
        "            if key in my_dict:\n",
        "                print(f\"Warning: Duplicate key '{key}'. Overwriting previous value.\")\n",
        "            my_dict[key] = value\n",
        "        print(\"Dictionary:\", my_dict)\n",
        "        break\n",
        "    except ValueError:\n",
        "        print(\"Invalid input! Please use the format 'key1:value1,key2:value2'.\")\n",
        "    except IndexError:\n",
        "        print(\"Invalid input! Please ensure each pair has a key and a value separated by ':'.\")"
      ],
      "metadata": {
        "colab": {
          "base_uri": "https://localhost:8080/"
        },
        "id": "-xqAX65UXTeN",
        "outputId": "a1d1d9ce-9d59-4590-f126-8cee106171fc"
      },
      "execution_count": null,
      "outputs": [
        {
          "output_type": "stream",
          "name": "stdout",
          "text": [
            "Enter key-value pairs (key1:value1,key2:value2): name:hello, age:89, istrue: false\n",
            "Dictionary: {'name': 'hello', 'age': '89', 'istrue': 'false'}\n"
          ]
        }
      ]
    },
    {
      "cell_type": "code",
      "source": [],
      "metadata": {
        "id": "gYnHLqGiRz3A"
      },
      "execution_count": null,
      "outputs": []
    },
    {
      "cell_type": "code",
      "source": [
        "  ## Can build up a dict by starting with the empty dict {}\n",
        "  ## and storing key/value pairs into the dict like this:\n",
        "  ## dict[key] = value-for-that-key\n",
        "dict = {}\n",
        "dict['a'] = 'alpha'\n",
        "dict['g'] = 'gamma'\n",
        "dict['o'] = 'omega'\n",
        "print(dict) ## {'a': 'alpha', 'o': 'omega', 'g': 'gamma'}\n",
        "print(dict['a'])     ## Simple lookup, returns 'alpha'\n",
        "dict['a'] = 6       ## Put new key/value into dict\n",
        "'a' in dict         ## True\n",
        "## print(dict['z'])                  ## Throws KeyError\n",
        "if 'z' in dict: print(dict['z'])     ## Avoid KeyError\n",
        "print(dict.get('z'))  ## None (instead of KeyError)"
      ],
      "metadata": {
        "colab": {
          "base_uri": "https://localhost:8080/"
        },
        "id": "tfSTQHI-FmEF",
        "outputId": "5f1fb6a8-2e00-43be-ed0b-a4a6f3ea7a12"
      },
      "execution_count": null,
      "outputs": [
        {
          "output_type": "stream",
          "name": "stdout",
          "text": [
            "{'a': 'alpha', 'g': 'gamma', 'o': 'omega'}\n",
            "alpha\n",
            "None\n"
          ]
        }
      ]
    },
    {
      "cell_type": "code",
      "source": [
        "## By default, iterating over a dict iterates over its keys.\n",
        "## Note that the keys are in a random order.\n",
        "for key in dict:\n",
        "  print(key)\n",
        "## prints a g o"
      ],
      "metadata": {
        "colab": {
          "base_uri": "https://localhost:8080/"
        },
        "id": "9iZASpe2H4ww",
        "outputId": "54083630-434a-4518-fe19-3d2d396381d9"
      },
      "execution_count": null,
      "outputs": [
        {
          "output_type": "stream",
          "name": "stdout",
          "text": [
            "a\n",
            "g\n",
            "o\n"
          ]
        }
      ]
    },
    {
      "cell_type": "code",
      "source": [
        "## Exactly the same as above\n",
        "for key in dict.keys():\n",
        "  print(key)\n",
        "\n",
        "## Get the .keys() list:\n",
        "print(dict.keys())  ## dict_keys(['a', 'o', 'g'])\n",
        "\n",
        "## Likewise, there's a .values() list of values\n",
        "print(dict.values())  ## dict_values(['alpha', 'omega', 'gamma'])\n",
        "\n",
        "## Common case -- loop over the keys in sorted order,\n",
        "## accessing each key/value\n",
        "for key in sorted(dict.keys()):\n",
        "  print(key, dict[key])\n"
      ],
      "metadata": {
        "colab": {
          "base_uri": "https://localhost:8080/"
        },
        "id": "GOnzPGrPH-gu",
        "outputId": "56c231b7-b841-49fb-db2c-fc152af6bc32"
      },
      "execution_count": null,
      "outputs": [
        {
          "output_type": "stream",
          "name": "stdout",
          "text": [
            "a\n",
            "g\n",
            "o\n",
            "dict_keys(['a', 'g', 'o'])\n",
            "dict_values([6, 'gamma', 'omega'])\n",
            "a 6\n",
            "g gamma\n",
            "o omega\n"
          ]
        }
      ]
    },
    {
      "cell_type": "code",
      "source": [
        "## .items() is the dict expressed as (key, value) tuples\n",
        "print(dict.items())  ##  dict_items([('a', 'alpha'), ('o', 'omega'), ('g', 'gamma')])\n",
        "\n",
        "## This loop syntax accesses the whole dict by looping\n",
        "## over the .items() tuple list, accessing one (key, value)\n",
        "## pair on each iteration.\n",
        "for k, v in dict.items(): print(k, '>', v)\n",
        "## a > alpha    o > omega     g > gamma"
      ],
      "metadata": {
        "colab": {
          "base_uri": "https://localhost:8080/"
        },
        "id": "xxI_YMfkHNi0",
        "outputId": "6c4d729b-2153-479d-998e-63ef47fa8d48"
      },
      "execution_count": null,
      "outputs": [
        {
          "output_type": "stream",
          "name": "stdout",
          "text": [
            "dict_items([('a', 6), ('g', 'gamma'), ('o', 'omega')])\n",
            "a > 6\n",
            "g > gamma\n",
            "o > omega\n"
          ]
        }
      ]
    },
    {
      "cell_type": "code",
      "source": [
        "h = {}\n",
        "h['word'] = 'garfield'\n",
        "h['count'] = 42\n",
        "s = 'I want %(count)d copies of %(word)s' % h  # %d for int, %s for string\n",
        "print(s)\n",
        "# 'I want 42 copies of garfield'\n",
        "\n",
        "# You can also use str.format().\n",
        "#a = 'I want {count:d} copies of {word}'.format(h)\n",
        "a = 'I want {count:d} copies of {word}'.format(count=h['count'], word=h['word'])\n",
        "print(a)"
      ],
      "metadata": {
        "colab": {
          "base_uri": "https://localhost:8080/"
        },
        "id": "_OHNgG15Izy7",
        "outputId": "179565c3-ae36-4542-8236-9299cd649ffa"
      },
      "execution_count": null,
      "outputs": [
        {
          "output_type": "stream",
          "name": "stdout",
          "text": [
            "I want 42 copies of garfield\n",
            "I want 42 copies of garfield\n"
          ]
        }
      ]
    },
    {
      "cell_type": "code",
      "source": [
        "var = 6\n",
        "del var  # var no more!\n",
        "\n",
        "list = ['a', 'b', 'c', 'd']\n",
        "del list[0]     ## Delete first element\n",
        "del list[-2:]   ## Delete last two elements\n",
        "print(list)      ## ['b']\n",
        "\n",
        "dict = {'a':1, 'b':2, 'c':3}\n",
        "del dict['b']   ## Delete 'b' entry\n",
        "print(dict)      ## {'a':1, 'c':3}"
      ],
      "metadata": {
        "colab": {
          "base_uri": "https://localhost:8080/"
        },
        "id": "h0xD6To_LSIG",
        "outputId": "999f64db-fc90-42c3-85f8-d2580e24549b"
      },
      "execution_count": null,
      "outputs": [
        {
          "output_type": "stream",
          "name": "stdout",
          "text": [
            "['b']\n",
            "{'a': 1, 'c': 3}\n"
          ]
        }
      ]
    },
    {
      "cell_type": "code",
      "source": [
        "import re\n",
        "\n",
        "str = 'an example word:cat!!'\n",
        "match = re.search(r'word:\\w\\w\\w', str)\n",
        "# If-statement after search() tests if it succeeded\n",
        "if match:\n",
        "  print('found', match.group()) ## 'found word:cat'\n",
        "else:\n",
        "  print('did not find')"
      ],
      "metadata": {
        "colab": {
          "base_uri": "https://localhost:8080/"
        },
        "id": "M6ch7vLuyUpf",
        "outputId": "49a8050b-79b5-43d5-9fd1-979ac60d169e"
      },
      "execution_count": 1,
      "outputs": [
        {
          "output_type": "stream",
          "name": "stdout",
          "text": [
            "found word:cat\n"
          ]
        }
      ]
    }
  ]
}